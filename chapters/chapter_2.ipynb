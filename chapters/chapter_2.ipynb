{
 "cells": [
  {
   "cell_type": "markdown",
   "metadata": {},
   "source": [
    "# Chapter 2 - **Python Language Basics, IPython, and Jupyter Notebooks**"
   ]
  },
  {
   "cell_type": "markdown",
   "metadata": {},
   "source": [
    "Python is a **readable**, **simple** and **explicit** programming language."
   ]
  },
  {
   "cell_type": "markdown",
   "metadata": {},
   "source": [
    "Python uses `:` (colons) to introduce a code block that has to be indented with white spaces (usually four)."
   ]
  },
  {
   "cell_type": "markdown",
   "metadata": {},
   "source": [
    "Basically everything in Python is a object and each object has an associated type like integer, string, function, list, and more."
   ]
  },
  {
   "cell_type": "markdown",
   "metadata": {},
   "source": [
    "Comments in Python can be made with `#` (hash mark)"
   ]
  },
  {
   "cell_type": "markdown",
   "metadata": {},
   "source": [
    "When calling a function its necessary to use parenthesis and passing zero or more arguments. The return of a function can be stored in a variable. The functions of a object are called methods and can be used using `.` (dot) after the object. Fuctions can take both positional and keyword arguments."
   ]
  },
  {
   "cell_type": "markdown",
   "metadata": {},
   "source": [
    "When assigning a variable in Python, you are creating a reference to the object in the right side of the `=` (equals)."
   ]
  },
  {
   "cell_type": "code",
   "execution_count": 2,
   "metadata": {},
   "outputs": [
    {
     "name": "stdout",
     "output_type": "stream",
     "text": [
      "[1, 2, 3] [1, 2, 3]\n",
      "[1, 2, 3, 4] [1, 2, 3, 4]\n"
     ]
    }
   ],
   "source": [
    "a = [1, 2, 3]\n",
    "b = a\n",
    "\n",
    "print(a, b)\n",
    "\n",
    "a.append(4)\n",
    "\n",
    "print(a, b)"
   ]
  },
  {
   "cell_type": "markdown",
   "metadata": {},
   "source": [
    "When you pass objects as arguments to fuctions, new local variables are created refering to the original objects that will not overwrite a variable of the same name outside the scope of the function."
   ]
  },
  {
   "cell_type": "markdown",
   "metadata": {},
   "source": [
    "Objects has attributes that are basically objects stored in other objects."
   ]
  },
  {
   "cell_type": "markdown",
   "metadata": {},
   "source": [
    "In Python, a module is a python file that contains python code. Its possible to access the variables and functions of this module using que import keyword."
   ]
  },
  {
   "cell_type": "markdown",
   "metadata": {},
   "source": [
    "Binary Operatons\n",
    "\n",
    "| Operation   | Description |\n",
    "|-------------|-------------|\n",
    "| a + b       | Sum            |\n",
    "| a - b       | Sum            |\n",
    "| a * b       | Sum            |\n",
    "| a / b       | Sum            |\n",
    "| a // b       | Sum            |\n",
    "| a ** b       | Sum            |\n",
    "| a & b       | Sum            |\n",
    "| a | b       | Sum            |\n",
    "| a ^ b       | Sum            |\n",
    "| a == b       | Sum            |\n",
    "| a != b       | Sum            |\n",
    "| a < b       | Sum            |\n",
    "| a <= b       | Sum            |\n",
    "| a > b       | Sum            |\n",
    "| a >= b       | Sum            |\n",
    "| a is b       | Sum            |\n",
    "| a not b       | Sum            |\n",
    "| a is not b       | Sum            |\n"
   ]
  },
  {
   "cell_type": "markdown",
   "metadata": {},
   "source": [
    "Lists, dictionaries, numpy arrays, and most user defined types (classes) are mutable. This means that the object or values that they contain can be modified. Strings and tuplas are immutable, which means their internal data can't be modified."
   ]
  }
 ],
 "metadata": {
  "kernelspec": {
   "display_name": "venv",
   "language": "python",
   "name": "python3"
  },
  "language_info": {
   "codemirror_mode": {
    "name": "ipython",
    "version": 3
   },
   "file_extension": ".py",
   "mimetype": "text/x-python",
   "name": "python",
   "nbconvert_exporter": "python",
   "pygments_lexer": "ipython3",
   "version": "3.11.2"
  }
 },
 "nbformat": 4,
 "nbformat_minor": 2
}
