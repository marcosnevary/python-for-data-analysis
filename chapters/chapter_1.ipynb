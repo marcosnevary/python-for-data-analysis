{
 "cells": [
  {
   "cell_type": "markdown",
   "metadata": {
    "vscode": {
     "languageId": "plaintext"
    }
   },
   "source": [
    "# Chapter 1 - **Preliminaries**"
   ]
  },
  {
   "cell_type": "markdown",
   "metadata": {},
   "source": [
    "The essential libraries for data analysis in Python are **NumPy**, **pandas**, **matplotlib**, **SciPy**, **scikit-learn** and **statsmodels**.\n",
    "\n",
    "- NumPy offers a multidimensional array object called `ndarray` that is **faster** and **more efficient** for storing and manipulating numerical data than the Python built-in data structures, along with functions for performing **computations on arrays**. It also provides tools for **reading and writing array-based datasets** to disk, as well as capabilities for **linear algebra operations**, **Fourier transforms**, **random number generation**, and more.\n",
    "\n",
    "- pandas provides a tabular, two-dimensional, column-oriented data structure with labeled rows and columns called `DataFrame` and a one-dimensional labeled array object called `Series`. They are **optimized** for **efficient data manipulation**, **cleaning**, **transformation** and **analysis**.\n",
    "\n",
    "- Matplotlib produces **plots** and **two-dimensional data visualizations**.\n",
    "\n",
    "- SciPy provides **scientific computing** functionalities such as **optimization**, **integration**, **interpolation**, **signal processing**, and more.\n",
    "\n",
    "- scikit-learn is a **machine learning** toolkit that provides efficient tools for **data mining**, **predictive modeling**, and **statistical learning**. It includes modules for **classification**, **regression**, **clustering**, **dimensionality reduction**, **model selection**, **preprocessing**, and more.\n",
    "\n",
    "- statsmodels offers **statistical modeling**, **hypothesis testing** and **econometrics** features like **regression models**, **time series analysis**, **statistical tests**, and more."
   ]
  },
  {
   "cell_type": "markdown",
   "metadata": {
    "vscode": {
     "languageId": "plaintext"
    }
   },
   "source": [
    "The **data analysis cycle** typically involves **gathering data** from external sources, **cleaning** and **preparing** the data, **transforming** it for analysis, **building models** and **performing computations**, and finally, **presenting** insights through **reports** and **visualizations**."
   ]
  },
  {
   "cell_type": "markdown",
   "metadata": {
    "vscode": {
     "languageId": "plaintext"
    }
   },
   "source": [
    "The Python community follows some **naming conventions** for the **essential libraries** mentioned earlier."
   ]
  },
  {
   "cell_type": "code",
   "execution_count": null,
   "metadata": {},
   "outputs": [],
   "source": [
    "import numpy as np\n",
    "import pandas as pd\n",
    "import matplotlib.pyplot as plt\n",
    "import statsmodels as sm"
   ]
  }
 ],
 "metadata": {
  "kernelspec": {
   "display_name": "venv",
   "language": "python",
   "name": "python3"
  },
  "language_info": {
   "name": "python",
   "version": "3.12.3"
  }
 },
 "nbformat": 4,
 "nbformat_minor": 2
}
